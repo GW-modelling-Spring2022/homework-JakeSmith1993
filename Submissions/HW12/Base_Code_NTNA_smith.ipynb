{
 "cells": [
  {
   "cell_type": "markdown",
   "metadata": {},
   "source": [
    "# Base Code for HW 12 Challenge Model - Smith\n",
    "\n",
    "## Model Description \n",
    "- This is a three layered model, with an West->East stream flowing over our specified topography. The base case has no wells present, simply ET, recharge, and the stream\n",
    "\n",
    "#### Dimensions: \n",
    "- 50 by 50 by 3\n",
    "- dx = dy = 1000 m \n",
    "\n",
    "#### Topography\n",
    "- top layer is defined in our BASE_top_elev.csv file\n",
    "- bottom layer is 40m thick, with a flat 5m middle layer above it\n",
    "\n",
    "#### Subsurface Properties: \n",
    "- Homogeneous within each of three layers\n",
    "- K top and bottom layers = 8.5 m/day in x, y and z.\n",
    "- K middle layer = same as top and bottom for leftmost 20 columns\n",
    "- K middle layer: 0.0001 m/day in z direction for rightmost 30 columns\n",
    "- Porosity = 0.1\n",
    "- Specific yield = 0.1\n",
    "- Storage coefficient=0.0001\n",
    "\n",
    "#### Boundary Conditions: \n",
    " - No flow on left, top, and bottom boundaries\n",
    " - right boundary is set at a constant head of 70m\n",
    " \n",
    "#### Well: \n",
    " - no well in base case \n",
    "\n",
    "#### Stream properties\n",
    " - Inflow = 0 m3/d\n",
    "- Streambed slope = 0.001 m/m\n",
    "- Streambed roughness = 0.04\n",
    "- Streambed width = 1 m\n",
    "- Streambed K = 1.36 x horizontal K of top layer\n",
    "- Streambed thickness = 1 m\n",
    "- Stage = 0.5 m\n",
    "- Segments = 3\n",
    "     "
   ]
  },
  {
   "cell_type": "markdown",
   "metadata": {},
   "source": [
    "## 1. Setup the environment"
   ]
  },
  {
   "cell_type": "code",
   "execution_count": 8,
   "metadata": {},
   "outputs": [],
   "source": [
    "#the basics\n",
    "import flopy\n",
    "import numpy as np\n",
    "import matplotlib as mp\n",
    "import os\n",
    "\n",
    "#additional analysis tools\n",
    "import flopy.utils.binaryfile as bf\n",
    "from mpl_toolkits.mplot3d import Axes3D\n",
    "import matplotlib.pyplot as plt\n",
    "from matplotlib import cm\n",
    "from matplotlib.ticker import LinearLocator, FormatStrFormatter\n",
    "import csv\n",
    "\n",
    "#jupyter specific--included to show plots in notebook\n",
    "%matplotlib inline \n",
    "\n"
   ]
  },
  {
   "cell_type": "markdown",
   "metadata": {},
   "source": [
    "## 2. Setup the input variables "
   ]
  },
  {
   "cell_type": "code",
   "execution_count": 9,
   "metadata": {},
   "outputs": [
    {
     "name": "stderr",
     "output_type": "stream",
     "text": [
      "<>:2: DeprecationWarning: invalid escape sequence \\s\n",
      "<>:2: DeprecationWarning: invalid escape sequence \\s\n",
      "C:\\Users\\sitzk\\AppData\\Local\\Temp\\ipykernel_17856\\2247869631.py:2: DeprecationWarning: invalid escape sequence \\s\n",
      "  moddir=\"C:\\\\Users\\sitzk\\Desktop\\GW_Modelling\\mf2005.exe\"\n"
     ]
    }
   ],
   "source": [
    "modelname = \"Base_Code_1\"\n",
    "moddir=\"C:\\\\Users\\sitzk\\Desktop\\GW_Modelling\\mf2005.exe\"\n",
    "m = flopy.modflow.Modflow(modelname, exe_name = moddir)\n",
    "\n",
    "nrow = 50\n",
    "ncol = 50\n",
    "\n",
    "dx = 1000\n",
    "dy = 1000\n",
    "\n",
    "nlay=3  #3 layers\n",
    "\n",
    "#dz = (ztop - zbot) / nlay\n",
    "#Lx = dx*ncol\n",
    "#Ly = dy*nrow\n",
    "\n",
    "with open('BASE_top_elev.csv', 'r', encoding='utf-8-sig') as reader: \n",
    "    ztop = np.genfromtxt(reader, dtype=float, delimiter=',') # top elevation of top layer (import from csv file) (dim: nrow,ncol)\n",
    "# print(type(ztop))\n",
    "zbot = 0\n",
    "\n",
    "K_horiz = 8.5    #assign horizontal hydraulic conductivity \n",
    "K_vert = 8.5    #assign vertical hydraulic conductivity (along z axis)\n",
    "\n",
    "Ss = 0.0001\n",
    "n = 0.1 \n",
    "Sy = 0.1 \n",
    "uncnf = 1\n",
    "\n",
    "## Setting up Layer properties\n",
    "\n",
    "botm = np.zeros((nlay,nrow,ncol)) # initialize array of zeros for bottom elevation for each model cell (dim: nlay,nrow,ncol)\n",
    "botm[1,:,:] = 40.                  # bottom elevation of middle layer (1) is 40 m\n",
    "botm[0,:,:] = 45.                  # bottom elevation of top layer (0) is 45 m \n",
    "\n",
    "## Make a arrays for the K values\n",
    "Kz = np.zeros((nlay,nrow,ncol))     # define an array of zeros the size of the model grid (nlay, nrow, ncol)\n",
    "Kz[:,:,:] = K_vert                   # assign the original value to the entire array\n",
    "Kz[1,:,20:] = 0.0001                   # Replace the K in the middle layer with the lower value for 30 R columns\n",
    "\n",
    "Kh = np.zeros((nlay,nrow,ncol))     # define an array of zeros the size of the model grid (nlay, nrow, ncol)\n",
    "Kh[:,:,:] = K_horiz                  # assign the original value to the entire array\n",
    "#Kh[1,:,21:-1] = 0.0001                    # Horizontal K does not change\n",
    "\n",
    "#model timing (1stress period)\n",
    "nper = 1\n",
    "steady = [True]\n",
    "\n",
    "\n",
    "#Create dis object\n",
    "dis = flopy.modflow.ModflowDis(model=m, nlay=nlay, nrow=nrow, ncol=ncol, \n",
    "                               delr=dx, delc=dy, top=ztop, botm=botm, \n",
    "                               itmuni = 4, lenuni = 2, \n",
    "                               nper=nper, steady=steady)   #Model unit meters (lenuni = 2) and days (itmuni = 4)"
   ]
  },
  {
   "cell_type": "markdown",
   "metadata": {},
   "source": [
    "4. boundaries"
   ]
  },
  {
   "cell_type": "code",
   "execution_count": 10,
   "metadata": {},
   "outputs": [],
   "source": [
    "#Create bas object\n",
    "# Our Boundary Conditions \n",
    "ibound = np.ones((nlay, nrow, ncol), dtype=np.int32)\n",
    "ibound[:, :, 0] = 0 # whole left side is no flow\n",
    "ibound[:, :, -1] = -1 # whole right side constant head\n",
    "ibound[:, 0, :] = 0 # first row (top of domain) is no flow\n",
    "ibound[:, -1, :] = 0 # last row (bottom of domain) is no flow\n",
    "for i in range (0,6):\n",
    "    ibound[0:, i, 0:6-i] = 0\n",
    "for i in range (0,8):\n",
    "    ibound[1, i, 0:8-i] = 0\n",
    "for i in range (0,10):\n",
    "    ibound[2, i, 0:10-i] = 0\n",
    "for i in range (0,6):\n",
    "    ibound[0:, 44+i, 0:1+i] = 0\n",
    "for i in range (0,8):\n",
    "    ibound[1, 42+i, 0:1+i] = 0\n",
    "for i in range (0,10):\n",
    "    ibound[2, 40+i, 0:1+1] = 0\n",
    "\n",
    "#setup initial heads as 1 everywhere except on the boundaries\n",
    "H_init = np.ones((nlay, nrow, ncol), dtype=np.float32)  #float array (i.e. decimal), sets all heads to 1.0\n",
    "h_right = 70\n",
    "H_init[:, :, :] = h_right    #initialize the entire domain to the right head value\n",
    "\n",
    "\n",
    "bas = flopy.modflow.ModflowBas(m, ibound=ibound, strt=H_init)\n",
    "\n",
    "#Numerical solver - pcg\n",
    "pcg = flopy.modflow.ModflowPcg(model=m)\n",
    "\n",
    "\n",
    "lpf = flopy.modflow.ModflowLpf(m, laytyp=uncnf, hk=Kh, \n",
    "                               vka=Kz, ss=Ss,\n",
    "                               sy=Sy,storagecoefficient=True, ipakcb=53) \n",
    "\n"
   ]
  },
  {
   "cell_type": "markdown",
   "metadata": {},
   "source": [
    "recharge & ET"
   ]
  },
  {
   "cell_type": "code",
   "execution_count": 11,
   "metadata": {},
   "outputs": [],
   "source": [
    "# Rch object\n",
    "#recharge = 4e-5 #m/day\n",
    "#rech_zone = np.zeros((nrow,ncol))\n",
    "#rech_zone[:, 0:15] = rech_zone[:, 0:15] + recharge                # recharge occurs on first 15 columns\n",
    "#rch = flopy.modflow.mfrch.ModflowRch(model=m, rech=rech_zone, ipakcb=53)\n",
    "\n",
    "#rech_zone = np.zeros((nrow,ncol))               #define an array of zeros of dim (nrow,ncol)\n",
    "#rech_zone = recharge+rech_zone\n",
    "#rch = flopy.modflow.mfrch.ModflowRch(model=m, rech=rech_zone, ipakcb=53)     #create rch object\n",
    "\n",
    "\n",
    "\n",
    "#ET\n",
    "#ET_zone = np.zeros((1,nrow,ncol))     # define an array of zeroes the size of the model grid\n",
    "#ET_zone[:,:,25:-1] = 1e-5  # ET only on right half of domain\n",
    "#ET_zone[:,22:29,:] = 5e-4  #stream ET\n",
    "\n",
    "ET_zone = np.zeros((nrow,ncol))     # define an array of zeroes the size of the model grid\n",
    "ET_zone[:,25:-1] = 1e-5  # ET only on right half of domain\n",
    "ET_zone[21:28,:] = 5e-4  #stream ET\n",
    "extinction_depth = 1 #extinction depth is the depth where if our water table is below that, our ET will be ZERO #between surface and extinction depth is just a linear interpolation\n",
    "\n",
    "\n",
    "evt = flopy.modflow.mfevt.ModflowEvt(model=m, surf=ztop, evtr=ET_zone, exdp=extinction_depth, ipakcb=53) #ipakcb makes sure it applies to water balance of all cells, default is 0, 53 is a safe integer to choose, some are taken \n",
    "\n",
    "#create  output control object \n",
    "spd = {(0, 0): ['print head', 'print budget', 'save head', 'save budget']}\n",
    "oc = flopy.modflow.ModflowOc(model=m, stress_period_data=spd, compact=True)\n",
    "#print(strt)\n",
    "#print(ET_zone)\n",
    "#print(rech_zone)"
   ]
  },
  {
   "cell_type": "markdown",
   "metadata": {},
   "source": [
    "## Stream\n",
    "- I just got this from the powerpoint slides that were provided, it gave me no issues... I think"
   ]
  },
  {
   "cell_type": "code",
   "execution_count": 12,
   "metadata": {},
   "outputs": [],
   "source": [
    "# User inputs:\n",
    "k_strbott = 1.36 * K_horiz                      #river bottom hydraulic conductivity in f/d\n",
    "sed_thick = 1                      #thickness of riverbed sediment in f\n",
    "slope = 0.001                        #slope of streambed (m/m)\n",
    "rough = 0.04                         #roughness of streambed\n",
    "width = 1                           #x-sectional width of channel (m)\n",
    "Flow_into_the_1st_reach = 0    # m^3/day\n",
    "Stage_above_datum = 0.5 # m^3/day; top of streambed is at 8 m (incl 1 m of streambed thickness)\n",
    "\n",
    "# str settings\n",
    "set_icalc = 0                   #1 if the stage is to be calculated based on flow, otherwise specify below # Set icalc = 0 bc stage doesn't change\n",
    "str_spd1 = []                      #create list to store all river cells for stress period 1\n",
    "const = 86400.0                      #multiplication constant for m3/day - see documentation for other units\n",
    "istcb2 = 53                          #save outflows to cbb file\n",
    "\n",
    "#Setup the stream characteristics \n",
    "return_loc = 25\n",
    "ntrib = 2\n",
    "\n",
    "#Setup the reach locations – here the row value will be 25 for each reach and the column values will go from 0-49\n",
    "nreach =  50   # river extending the width of the domain\n",
    "str_rows = 25*np.ones((nreach),dtype=np.int32)  # integer array of row #s for each reach \n",
    "str_cols = np.arange(0,nreach)  # integer array of col #s for each reach \n",
    "\n",
    "#Setup the inflows for the reaches\n",
    "Qreturn =0     # return flow from the town\n",
    "reach_flow = np.zeros((nreach),dtype=np.int32)  # initially set all inflows to zero for all reaches\n",
    "reach_flow[return_loc] = Qreturn # inflow to seg2 = return from town\n",
    "reach_flow[return_loc+1] = -1 # inflow to seg3 = sum of all previous segs\n",
    "\n",
    "#setup segment numbers – this is a list of segment values that goes with each reach\n",
    "return_loc = 24    #specifying the column where the town return flows come in\n",
    "segments = np.ones((nreach),dtype=np.int32)    # make a segment array that is nreach long and initialize all the values to 1\n",
    "segments[return_loc] = 2    #Change the segment number to ‘2’ where the town recharge comes in\n",
    "segments[return_loc+1:nreach] = 3    # Change the segment number to ‘3’ everywhere downstream of the the town well\n",
    "\n",
    "#setup reach numbers – this will be the numbering of the reaches within each segment. \n",
    "# Recall that numbering starts and one and increases moving downstream\n",
    "reaches = np.arange(1,nreach+1)   # create an array of reach #s counting from 1-50\n",
    "reaches[return_loc] = 1    # reassign the reach number to be 1 for segment 2\n",
    "reaches[return_loc+1:nreach] = np.arange(1,nreach-(return_loc+1)+1)  # reassign the reach numbers for segment 3 to start counting at 1\n",
    "\n",
    "# Stream Elevation\n",
    "ztop = np.genfromtxt('BASE_top_elev.csv', delimiter=',') # top elevation of top layer (import from csv file) (dim: nrow, ncol)\n",
    "surf_elev = np.zeros((nreach))   # create array of zeros the length of the stream\n",
    "\n",
    "# loop over the stream reaches and pull the land surface elevation for the location of each stream cell\n",
    "for i in np.arange(nreach): \n",
    "      surf_elev[i] = ztop[str_rows[i],str_cols[i]]\n",
    "\n",
    "Stop = surf_elev -1    # elevation of the top of the streambed (1 m below land surface) (m)\n",
    "Sbot = Stop - sed_thick      # elevation of the bottom of the streambed (m)\n",
    "stage_elev = Stop + Stage_above_datum       # elevation of the water surface in the stream (m)\n",
    "\n",
    "\n",
    "#Setup the stress period dictionary\n",
    "str_info = np.zeros((nreach,13)) # create array of zeros for reaches, each reach requires 13 input values\n",
    "\n",
    "# Loop over the reaches and setup the data\n",
    "for r in np.arange(nreach): \n",
    "     str_info[r,:] = [0, str_rows[r], str_cols[r], segments[r], reaches[r], reach_flow[r], stage_elev[r], k_strbott, Sbot[r], Stop[r], width,  slope, rough]\n",
    "str_spd = {0: str_info} # save the stream info in a stress period dictionary\n",
    "\n",
    "\n",
    "#Setup the segments dictionary\n",
    "#for each segment, need an array of 10 zeros, for last segment, first two values are seg #s of upstream segments\n",
    "nseg = 3\n",
    "icalc = 1\n",
    "seg_info = [[0, 0, 0, 0, 0, 0, 0, 0, 0, 0, 0], [0, 0, 0, 0, 0, 0, 0, 0, 0, 0, 0], [1, 2, 0, 0, 0, 0, 0, 0, 0, 0, 1]]\n",
    "str_segd = {0: seg_info}  #save the stream info in a segment dictionary\n",
    "\n",
    "# Setup the mudflow package call\n",
    "strm = flopy.modflow.mfstr.ModflowStr(m, mxacts=nreach, nss=nseg, ntrib=ntrib, ndiv=0, icalc=icalc, const=const, ipakcb=53, istcb2=53, dtype=None, stress_period_data=str_spd, segment_data=str_segd, extension='str')\n",
    "\n"
   ]
  },
  {
   "cell_type": "markdown",
   "metadata": {},
   "source": [
    "run model"
   ]
  },
  {
   "cell_type": "code",
   "execution_count": 13,
   "metadata": {},
   "outputs": [
    {
     "name": "stdout",
     "output_type": "stream",
     "text": [
      "FloPy is using the following executable to run the model: C:\\Users\\sitzk\\Desktop\\GW_Modelling\\mf2005.exe\n",
      "\n",
      "                                  MODFLOW-2005     \n",
      "    U.S. GEOLOGICAL SURVEY MODULAR FINITE-DIFFERENCE GROUND-WATER FLOW MODEL\n",
      "                             Version 1.12.00 2/3/2017                        \n",
      "\n",
      " Using NAME file: Base_Code_1.nam \n",
      " Run start date and time (yyyy/mm/dd hh:mm:ss): 2022/04/21 21:38:20\n",
      "\n",
      " Solving:  Stress period:     1    Time step:     1    Ground-Water Flow Eqn.\n",
      " Run end date and time (yyyy/mm/dd hh:mm:ss): 2022/04/21 21:38:20\n",
      " Elapsed run time:  0.106 Seconds\n",
      "\n",
      "  Normal termination of simulation\n"
     ]
    }
   ],
   "source": [
    "m.write_input()\n",
    "\n",
    "success, mfoutput = m.run_model(pause=False, report=True)\n",
    "if not success:\n",
    "    raise Exception('MODFLOW did not terminate normally.')"
   ]
  },
  {
   "cell_type": "markdown",
   "metadata": {},
   "source": [
    "# 5. Plot the domains\n",
    "### 5.1 Plan view of the domain"
   ]
  },
  {
   "cell_type": "code",
   "execution_count": 14,
   "metadata": {},
   "outputs": [
    {
     "data": {
      "image/png": "[encoded data removed]",
      "text/plain": [
       "<Figure size 432x288 with 1 Axes>"
      ]
     },
     "metadata": {
      "needs_background": "light"
     },
     "output_type": "display_data"
    }
   ],
   "source": [
    "modelmap = flopy.plot.PlotMapView(model=m, layer=0)\n",
    "grid = modelmap.plot_grid()\n",
    "ib = modelmap.plot_ibound()\n",
    "plt.xlabel('Lx (m)',fontsize = 14)\n",
    "plt.ylabel('Ly (m)',fontsize = 14)\n",
    "plt.title('Ibound', fontsize = 15, fontweight = 'bold')\n",
    "#wel_m = modelmap.plot_bc(\"WEL\")\n",
    "str_m = modelmap.plot_bc(\"STR\")\n",
    "plt.legend(handles=[mp.patches.Patch(color='purple',label='Stream',ec='black'),\n",
    "                   mp.patches.Patch(color='blue',label='Const Head Boundary',ec='black'),\n",
    "                   mp.patches.Patch(color='white',label='Active Cell',ec='black'),\n",
    "                   mp.patches.Patch(color='black',label='Inactive Cell',ec='black')],\n",
    "                   bbox_to_anchor=(1.8,1.0))\n",
    "plt.show(modelmap)"
   ]
  },
  {
   "cell_type": "markdown",
   "metadata": {},
   "source": [
    "cross section check\n",
    "\n",
    "- I had help with these plots"
   ]
  },
  {
   "cell_type": "code",
   "execution_count": 15,
   "metadata": {},
   "outputs": [
    {
     "data": {
      "image/png": "[encoded data removed]",
      "text/plain": [
       "<Figure size 1080x360 with 1 Axes>"
      ]
     },
     "metadata": {
      "needs_background": "light"
     },
     "output_type": "display_data"
    },
    {
     "data": {
      "image/png": "[encoded data removed]",
      "text/plain": [
       "<Figure size 1080x360 with 1 Axes>"
      ]
     },
     "metadata": {
      "needs_background": "light"
     },
     "output_type": "display_data"
    }
   ],
   "source": [
    "fig = plt.figure(figsize=(15, 5))\n",
    "ax = fig.add_subplot(1, 1, 1)\n",
    "\n",
    "xsect = flopy.plot.PlotCrossSection(model=m, line={'column': 24}) #note use the key 'column' if you want to plot a column instead\n",
    "patches = xsect.plot_ibound(color_noflow='red', color_ch='blue')\n",
    "#patches = xsect.plot_bc('WEL', color='red')\n",
    "linecollection = xsect.plot_grid(color='green')\n",
    "t = ax.set_title(' Column 24 Cross-Section with IBOUND Boundary Conditions')\n",
    "\n",
    "fig = plt.figure(figsize=(15, 5))\n",
    "ax = fig.add_subplot(1, 1, 1)\n",
    "\n",
    "xsect = flopy.plot.PlotCrossSection(model=m, line={'row': 24}) #note use the key 'column' if you want to plot a column instead\n",
    "patches = xsect.plot_ibound(color_noflow='gray', color_ch='blue')\n",
    "#patches = xsect.plot_bc('WEL', color='red')\n",
    "linecollection = xsect.plot_grid(color='green')\n",
    "t = ax.set_title(' Row 24 Cross-Section with IBOUND Boundary Conditions')"
   ]
  }
 ],
 "metadata": {
  "kernelspec": {
   "display_name": "Python 3",
   "language": "python",
   "name": "python3"
  },
  "language_info": {
   "codemirror_mode": {
    "name": "ipython",
    "version": 3
   },
   "file_extension": ".py",
   "mimetype": "text/x-python",
   "name": "python",
   "nbconvert_exporter": "python",
   "pygments_lexer": "ipython3",
   "version": "3.8.12"
  }
 },
 "nbformat": 4,
 "nbformat_minor": 4
}
