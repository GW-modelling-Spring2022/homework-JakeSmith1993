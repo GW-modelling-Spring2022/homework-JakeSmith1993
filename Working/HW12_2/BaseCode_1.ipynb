{
 "cells": [
  {
   "cell_type": "markdown",
   "metadata": {},
   "source": [
    "# Layered Model Starter Code\n",
    "\n",
    "## Model Description \n",
    "This is a steady state, layered box model with recharge.\n",
    "\n",
    "#### Dimensions: \n",
    "- 50 by 50 by 1\n",
    "- dx = dy = 100 m\n",
    "- dz = 100 m  \n",
    "\n",
    "#### Topography\n",
    "- Land surface 100m above the datum on the left hand side\n",
    "- sloping linearly to 85m above the datum on the right hand side\n",
    "\n",
    "#### Subsurface Properties: \n",
    "- Homogeneous \n",
    "- K = 1.0 m/day in x and y and 0.1 m/day in z.  \n",
    "- Porosity = 0.35\n",
    "- Specific yield = 0.3\n",
    "- Storage coefficient=0.001  \n",
    "\n",
    "#### Boundary Conditions: \n",
    " - Left boundary constant head 85m\n",
    " - Right boundary is a constant head of 70m \n",
    " - Recharge occurs at a rate of 5E-5 m/d uniformly across the domain\n",
    " \n",
    "#### Well: \n",
    " - Pumping well\n",
    "     - Located at (2500, 2500)\n",
    "     - Pumping at a rate of 500 m^3/day \n",
    "\n",
    "#### Layered Scenario\n",
    " - Low K layer - Kx=Ky=Kz=0.0001m/d\n",
    " - Extends from 25-35m above the base of the domain\n",
    " - The well is only completed in the lowest layer\n",
    "     "
   ]
  },
  {
   "cell_type": "markdown",
   "metadata": {},
   "source": [
    "## 1. Setup the environment"
   ]
  },
  {
   "cell_type": "code",
   "execution_count": 112,
   "metadata": {},
   "outputs": [],
   "source": [
    "#the basics\n",
    "import flopy\n",
    "import numpy as np\n",
    "import matplotlib as mp\n",
    "import os\n",
    "\n",
    "#additional analysis tools\n",
    "import flopy.utils.binaryfile as bf\n",
    "from mpl_toolkits.mplot3d import Axes3D\n",
    "import matplotlib.pyplot as plt\n",
    "from matplotlib import cm\n",
    "from matplotlib.ticker import LinearLocator, FormatStrFormatter\n",
    "import csv\n",
    "\n",
    "#jupyter specific--included to show plots in notebook\n",
    "%matplotlib inline \n",
    "\n"
   ]
  },
  {
   "cell_type": "markdown",
   "metadata": {},
   "source": [
    "## 2. Setup the input variables "
   ]
  },
  {
   "cell_type": "code",
   "execution_count": 113,
   "metadata": {},
   "outputs": [
    {
     "name": "stderr",
     "output_type": "stream",
     "text": [
      "<>:2: DeprecationWarning: invalid escape sequence \\s\n",
      "<>:2: DeprecationWarning: invalid escape sequence \\s\n",
      "C:\\Users\\sitzk\\AppData\\Local\\Temp\\ipykernel_7268\\1592166835.py:2: DeprecationWarning: invalid escape sequence \\s\n",
      "  moddir=\"C:\\\\Users\\sitzk\\Desktop\\GW_Modelling\\mf2005.exe\"\n"
     ]
    }
   ],
   "source": [
    "modelname = \"Base_Code_1\"\n",
    "moddir=\"C:\\\\Users\\sitzk\\Desktop\\GW_Modelling\\mf2005.exe\"\n",
    "m = flopy.modflow.Modflow(modelname, exe_name = moddir)\n",
    "\n",
    "nrow = 50\n",
    "ncol = 50\n",
    "\n",
    "dx = 1000\n",
    "dy = 1000\n",
    "\n",
    "nlay=3  #3 layers\n",
    "\n",
    "with open('Base_top_elev.csv', 'r', encoding='utf-8-sig') as reader: \n",
    "    ztop = np.genfromtxt(reader, dtype=float, delimiter=',') # top elevation of top layer (import from csv file) (dim: nrow,ncol)\n",
    "# print(type(ztop))\n",
    "zbot = 0\n",
    "\n",
    "#dz = (ztop - zbot) / nlay\n",
    "#Lx = dx*ncol\n",
    "#Ly = dy*nrow\n",
    "\n",
    "K_horiz = 8.5    #assign horizontal hydraulic conductivity \n",
    "K_vert = 8.5    #assign vertical hydraulic conductivity (along z axis)\n",
    "\n",
    "Ss = 0.0001\n",
    "n = 0.1 \n",
    "Sy = 0.1 \n",
    "uncnf = 1\n",
    "\n",
    "## Setting up Layer properties\n",
    "\n",
    "botm = np.zeros((nlay,nrow,ncol)) # initialize array of zeros for bottom elevation for each model cell (dim: nlay,nrow,ncol)\n",
    "botm[1,:,:] = 40.                  # bottom elevation of middle layer (1) is 40 m\n",
    "botm[0,:,:] = 45.                  # bottom elevation of top layer (0) is 45 m \n",
    "\n",
    "## Make a arrays for the K values\n",
    "Kz = np.zeros((nlay,nrow,ncol))     # define an array of zeros the size of the model grid (nlay, nrow, ncol)\n",
    "Kz[:,:,:] = K_vert                   # assign the original value to the entire array\n",
    "Kz[1,:,20:] = 0.0001                   # Replace the K in the middle layer with the lower value for 30 R columns\n",
    "\n",
    "Kh = np.zeros((nlay,nrow,ncol))     # define an array of zeros the size of the model grid (nlay, nrow, ncol)\n",
    "Kh[:,:,:] = K_horiz                  # assign the original value to the entire array\n",
    "#Kh[1,:,21:-1] = 0.0001                    # Horizontal K does not change\n",
    "\n",
    "#model timing (1stress period)\n",
    "nper = 1\n",
    "steady = [True]\n",
    "\n",
    "\n",
    "#Create dis object\n",
    "dis = flopy.modflow.ModflowDis(model=m, nlay=nlay, nrow=nrow, ncol=ncol, \n",
    "                               delr=dx, delc=dy, top=ztop, botm=botm, \n",
    "                               itmuni = 4, lenuni = 2, \n",
    "                               nper=nper, steady=steady)   #Model unit meters (lenuni = 2) and days (itmuni = 4)"
   ]
  },
  {
   "cell_type": "markdown",
   "metadata": {},
   "source": [
    "4. boundaries"
   ]
  },
  {
   "cell_type": "code",
   "execution_count": 114,
   "metadata": {},
   "outputs": [],
   "source": [
    "#Create bas object\n",
    "# Our Boundary Conditions \n",
    "ibound = np.ones((nlay, nrow, ncol), dtype=np.int32)\n",
    "ibound[:, :, 0] = 0 # whole left side is no flow\n",
    "ibound[:, :, -1] = -1 # whole right side constant head\n",
    "ibound[:, 0, :] = 0 # first row (top of domain) is no flow\n",
    "ibound[:, -1, :] = 0 # last row (bottom of domain) is no flow\n",
    "for i in range (0,6):\n",
    "    ibound[0:, i, 0:6-i] = 0\n",
    "for i in range (0,8):\n",
    "    ibound[1, i, 0:8-i] = 0\n",
    "for i in range (0,10):\n",
    "    ibound[2, i, 0:10-i] = 0\n",
    "for i in range (0,6):\n",
    "    ibound[0:, 44+i, 0:1+i] = 0\n",
    "for i in range (0,8):\n",
    "    ibound[1, 42+i, 0:1+i] = 0\n",
    "for i in range (0,10):\n",
    "    ibound[2, 40+i, 0:1+1] = 0\n",
    "\n",
    "#setup initial heads as 1 everywhere except on the boundaries\n",
    "H_init = np.ones((nlay, nrow, ncol), dtype=np.float32)  #float array (i.e. decimal), sets all heads to 1.0\n",
    "h_right = 70\n",
    "H_init[:, :, :] = h_right    #initialize the entire domain to the right head value\n",
    "\n",
    "\n",
    "bas = flopy.modflow.ModflowBas(m, ibound=ibound, strt=H_init)\n",
    "\n",
    "#Numerical solver - pcg\n",
    "pcg = flopy.modflow.ModflowPcg(model=m)\n",
    "\n",
    "\n",
    "lpf = flopy.modflow.ModflowLpf(m, laytyp=uncnf, hk=Kh, \n",
    "                               vka=Kz, ss=Ss,\n",
    "                               sy=Sy,storagecoefficient=True, ipakcb=53) \n",
    "\n"
   ]
  },
  {
   "cell_type": "markdown",
   "metadata": {},
   "source": [
    "recharge & ET"
   ]
  },
  {
   "cell_type": "code",
   "execution_count": 115,
   "metadata": {},
   "outputs": [],
   "source": [
    "# Rch object\n",
    "#recharge = 4e-5 #m/day\n",
    "#rech_zone = np.zeros((nrow,ncol))\n",
    "#rech_zone[:, 0:15] = rech_zone[:, 0:15] + recharge                # recharge occurs on first 15 columns\n",
    "#rch = flopy.modflow.mfrch.ModflowRch(model=m, rech=rech_zone, ipakcb=53)\n",
    "\n",
    "#rech_zone = np.zeros((nrow,ncol))               #define an array of zeros of dim (nrow,ncol)\n",
    "#rech_zone = recharge+rech_zone\n",
    "#rch = flopy.modflow.mfrch.ModflowRch(model=m, rech=rech_zone, ipakcb=53)     #create rch object\n",
    "\n",
    "#create  output control object \n",
    "spd = {(0, 0): ['print head', 'print budget', 'save head', 'save budget']}\n",
    "oc = flopy.modflow.ModflowOc(model=m, stress_period_data=spd, compact=True)\n",
    "\n",
    "#ET\n",
    "#ET_zone = np.zeros((1,nrow,ncol))     # define an array of zeroes the size of the model grid\n",
    "#ET_zone[:,:,25:-1] = 1e-5  # ET only on right half of domain\n",
    "#ET_zone[:,22:29,:] = 5e-4  #stream ET\n",
    "\n",
    "ET_zone = np.zeros((nrow,ncol))     # define an array of zeroes the size of the model grid\n",
    "ET_zone[:,25:-1] = 1e-5  # ET only on right half of domain\n",
    "ET_zone[21:28,:] = 5e-4  #stream ET\n",
    "extinction_depth = 1 #extinction depth is the depth where if our water table is below that, our ET will be ZERO #between surface and extinction depth is just a linear interpolation\n",
    "\n",
    "\n",
    "evt = flopy.modflow.mfevt.ModflowEvt(model=m, surf=ztop, evtr=ET_zone, exdp=extinction_depth, ipakcb=53) #ipakcb makes sure it applies to water balance of all cells, default is 0, 53 is a safe integer to choose, some are taken \n",
    "\n",
    "#print(strt)\n",
    "#print(ET_zone)\n",
    "#print(rech_zone)"
   ]
  },
  {
   "cell_type": "markdown",
   "metadata": {},
   "source": [
    "run model"
   ]
  },
  {
   "cell_type": "code",
   "execution_count": 116,
   "metadata": {},
   "outputs": [
    {
     "name": "stdout",
     "output_type": "stream",
     "text": [
      "FloPy is using the following executable to run the model: C:\\Users\\sitzk\\Desktop\\GW_Modelling\\mf2005.exe\n",
      "\n",
      "                                  MODFLOW-2005     \n",
      "    U.S. GEOLOGICAL SURVEY MODULAR FINITE-DIFFERENCE GROUND-WATER FLOW MODEL\n",
      "                             Version 1.12.00 2/3/2017                        \n",
      "\n",
      " Using NAME file: Base_Code_1.nam \n",
      " Run start date and time (yyyy/mm/dd hh:mm:ss): 2022/04/20  9:40:30\n",
      "\n",
      " Solving:  Stress period:     1    Time step:     1    Ground-Water Flow Eqn.\n",
      " Run end date and time (yyyy/mm/dd hh:mm:ss): 2022/04/20  9:40:30\n",
      " Elapsed run time:  0.127 Seconds\n",
      "\n",
      "  Normal termination of simulation\n"
     ]
    }
   ],
   "source": [
    "m.write_input()\n",
    "\n",
    "success, mfoutput = m.run_model(pause=False, report=True)\n",
    "if not success:\n",
    "    raise Exception('MODFLOW did not terminate normally.')"
   ]
  },
  {
   "cell_type": "markdown",
   "metadata": {},
   "source": [
    "# 5. Plot the domains\n",
    "### 5.1 Plan view of the domain"
   ]
  },
  {
   "cell_type": "code",
   "execution_count": 117,
   "metadata": {},
   "outputs": [
    {
     "ename": "AttributeError",
     "evalue": "'NoneType' object has no attribute 'parent'",
     "output_type": "error",
     "traceback": [
      "\u001b[1;31m---------------------------------------------------------------------------\u001b[0m",
      "\u001b[1;31mAttributeError\u001b[0m                            Traceback (most recent call last)",
      "\u001b[1;32mc:\\Users\\sitzk\\Desktop\\GW_Modelling\\homework-JakeSmith1993\\Working\\HW12_2\\BaseCode_1.ipynb Cell 13'\u001b[0m in \u001b[0;36m<module>\u001b[1;34m\u001b[0m\n\u001b[0;32m      <a href='vscode-notebook-cell:/c%3A/Users/sitzk/Desktop/GW_Modelling/homework-JakeSmith1993/Working/HW12_2/BaseCode_1.ipynb#ch0000010?line=4'>5</a>\u001b[0m plt\u001b[39m.\u001b[39mylabel(\u001b[39m'\u001b[39m\u001b[39mLy (m)\u001b[39m\u001b[39m'\u001b[39m,fontsize \u001b[39m=\u001b[39m \u001b[39m14\u001b[39m)\n\u001b[0;32m      <a href='vscode-notebook-cell:/c%3A/Users/sitzk/Desktop/GW_Modelling/homework-JakeSmith1993/Working/HW12_2/BaseCode_1.ipynb#ch0000010?line=5'>6</a>\u001b[0m plt\u001b[39m.\u001b[39mtitle(\u001b[39m'\u001b[39m\u001b[39mIbound\u001b[39m\u001b[39m'\u001b[39m, fontsize \u001b[39m=\u001b[39m \u001b[39m15\u001b[39m, fontweight \u001b[39m=\u001b[39m \u001b[39m'\u001b[39m\u001b[39mbold\u001b[39m\u001b[39m'\u001b[39m)\n\u001b[1;32m----> <a href='vscode-notebook-cell:/c%3A/Users/sitzk/Desktop/GW_Modelling/homework-JakeSmith1993/Working/HW12_2/BaseCode_1.ipynb#ch0000010?line=6'>7</a>\u001b[0m wel_m \u001b[39m=\u001b[39m modelmap\u001b[39m.\u001b[39;49mplot_bc(\u001b[39m\"\u001b[39;49m\u001b[39mWEL\u001b[39;49m\u001b[39m\"\u001b[39;49m)\n\u001b[0;32m      <a href='vscode-notebook-cell:/c%3A/Users/sitzk/Desktop/GW_Modelling/homework-JakeSmith1993/Working/HW12_2/BaseCode_1.ipynb#ch0000010?line=7'>8</a>\u001b[0m \u001b[39m#str_m = modelmap.plot_bc(\"STR\")\u001b[39;00m\n\u001b[0;32m      <a href='vscode-notebook-cell:/c%3A/Users/sitzk/Desktop/GW_Modelling/homework-JakeSmith1993/Working/HW12_2/BaseCode_1.ipynb#ch0000010?line=8'>9</a>\u001b[0m plt\u001b[39m.\u001b[39mlegend(handles\u001b[39m=\u001b[39m[mp\u001b[39m.\u001b[39mpatches\u001b[39m.\u001b[39mPatch(color\u001b[39m=\u001b[39m\u001b[39m'\u001b[39m\u001b[39mpurple\u001b[39m\u001b[39m'\u001b[39m,label\u001b[39m=\u001b[39m\u001b[39m'\u001b[39m\u001b[39mStream\u001b[39m\u001b[39m'\u001b[39m,ec\u001b[39m=\u001b[39m\u001b[39m'\u001b[39m\u001b[39mblack\u001b[39m\u001b[39m'\u001b[39m),\n\u001b[0;32m     <a href='vscode-notebook-cell:/c%3A/Users/sitzk/Desktop/GW_Modelling/homework-JakeSmith1993/Working/HW12_2/BaseCode_1.ipynb#ch0000010?line=9'>10</a>\u001b[0m                    mp\u001b[39m.\u001b[39mpatches\u001b[39m.\u001b[39mPatch(color\u001b[39m=\u001b[39m\u001b[39m'\u001b[39m\u001b[39mblue\u001b[39m\u001b[39m'\u001b[39m,label\u001b[39m=\u001b[39m\u001b[39m'\u001b[39m\u001b[39mConst Head Boundary\u001b[39m\u001b[39m'\u001b[39m,ec\u001b[39m=\u001b[39m\u001b[39m'\u001b[39m\u001b[39mblack\u001b[39m\u001b[39m'\u001b[39m),\n\u001b[0;32m     <a href='vscode-notebook-cell:/c%3A/Users/sitzk/Desktop/GW_Modelling/homework-JakeSmith1993/Working/HW12_2/BaseCode_1.ipynb#ch0000010?line=10'>11</a>\u001b[0m                    mp\u001b[39m.\u001b[39mpatches\u001b[39m.\u001b[39mPatch(color\u001b[39m=\u001b[39m\u001b[39m'\u001b[39m\u001b[39mwhite\u001b[39m\u001b[39m'\u001b[39m,label\u001b[39m=\u001b[39m\u001b[39m'\u001b[39m\u001b[39mActive Cell\u001b[39m\u001b[39m'\u001b[39m,ec\u001b[39m=\u001b[39m\u001b[39m'\u001b[39m\u001b[39mblack\u001b[39m\u001b[39m'\u001b[39m),\n\u001b[0;32m     <a href='vscode-notebook-cell:/c%3A/Users/sitzk/Desktop/GW_Modelling/homework-JakeSmith1993/Working/HW12_2/BaseCode_1.ipynb#ch0000010?line=11'>12</a>\u001b[0m                    mp\u001b[39m.\u001b[39mpatches\u001b[39m.\u001b[39mPatch(color\u001b[39m=\u001b[39m\u001b[39m'\u001b[39m\u001b[39mblack\u001b[39m\u001b[39m'\u001b[39m,label\u001b[39m=\u001b[39m\u001b[39m'\u001b[39m\u001b[39mInactive Cell\u001b[39m\u001b[39m'\u001b[39m,ec\u001b[39m=\u001b[39m\u001b[39m'\u001b[39m\u001b[39mblack\u001b[39m\u001b[39m'\u001b[39m)],\n\u001b[0;32m     <a href='vscode-notebook-cell:/c%3A/Users/sitzk/Desktop/GW_Modelling/homework-JakeSmith1993/Working/HW12_2/BaseCode_1.ipynb#ch0000010?line=12'>13</a>\u001b[0m                    bbox_to_anchor\u001b[39m=\u001b[39m(\u001b[39m1.8\u001b[39m,\u001b[39m1.0\u001b[39m))\n",
      "File \u001b[1;32m~\\miniconda3\\envs\\gwmod\\lib\\site-packages\\flopy\\plot\\map.py:436\u001b[0m, in \u001b[0;36mPlotMapView.plot_bc\u001b[1;34m(self, name, package, kper, color, plotAll, **kwargs)\u001b[0m\n\u001b[0;32m    <a href='file:///c%3A/Users/sitzk/miniconda3/envs/gwmod/lib/site-packages/flopy/plot/map.py?line=432'>433</a>\u001b[0m     \u001b[39mraise\u001b[39;00m \u001b[39mException\u001b[39;00m(\u001b[39m\"\u001b[39m\u001b[39mCannot find package to plot\u001b[39m\u001b[39m\"\u001b[39m)\n\u001b[0;32m    <a href='file:///c%3A/Users/sitzk/miniconda3/envs/gwmod/lib/site-packages/flopy/plot/map.py?line=434'>435</a>\u001b[0m \u001b[39m# trap for mf6 'cellid' vs mf2005 'k', 'i', 'j' convention\u001b[39;00m\n\u001b[1;32m--> <a href='file:///c%3A/Users/sitzk/miniconda3/envs/gwmod/lib/site-packages/flopy/plot/map.py?line=435'>436</a>\u001b[0m \u001b[39mif\u001b[39;00m \u001b[39misinstance\u001b[39m(p, \u001b[39mlist\u001b[39m) \u001b[39mor\u001b[39;00m p\u001b[39m.\u001b[39;49mparent\u001b[39m.\u001b[39mversion \u001b[39m==\u001b[39m \u001b[39m\"\u001b[39m\u001b[39mmf6\u001b[39m\u001b[39m\"\u001b[39m:\n\u001b[0;32m    <a href='file:///c%3A/Users/sitzk/miniconda3/envs/gwmod/lib/site-packages/flopy/plot/map.py?line=436'>437</a>\u001b[0m     \u001b[39mif\u001b[39;00m \u001b[39mnot\u001b[39;00m \u001b[39misinstance\u001b[39m(p, \u001b[39mlist\u001b[39m):\n\u001b[0;32m    <a href='file:///c%3A/Users/sitzk/miniconda3/envs/gwmod/lib/site-packages/flopy/plot/map.py?line=437'>438</a>\u001b[0m         p \u001b[39m=\u001b[39m [p]\n",
      "\u001b[1;31mAttributeError\u001b[0m: 'NoneType' object has no attribute 'parent'"
     ]
    },
    {
     "data": {
      "image/png": "[encoded data removed]",
      "text/plain": [
       "<Figure size 432x288 with 1 Axes>"
      ]
     },
     "metadata": {
      "needs_background": "light"
     },
     "output_type": "display_data"
    }
   ],
   "source": [
    "modelmap = flopy.plot.PlotMapView(model=m, layer=0)\n",
    "grid = modelmap.plot_grid()\n",
    "ib = modelmap.plot_ibound()\n",
    "plt.xlabel('Lx (m)',fontsize = 14)\n",
    "plt.ylabel('Ly (m)',fontsize = 14)\n",
    "plt.title('Ibound', fontsize = 15, fontweight = 'bold')\n",
    "wel_m = modelmap.plot_bc(\"WEL\")\n",
    "#str_m = modelmap.plot_bc(\"STR\")\n",
    "plt.legend(handles=[mp.patches.Patch(color='purple',label='Stream',ec='black'),\n",
    "                   mp.patches.Patch(color='blue',label='Const Head Boundary',ec='black'),\n",
    "                   mp.patches.Patch(color='white',label='Active Cell',ec='black'),\n",
    "                   mp.patches.Patch(color='black',label='Inactive Cell',ec='black')],\n",
    "                   bbox_to_anchor=(1.8,1.0))\n",
    "plt.show(modelmap)"
   ]
  }
 ],
 "metadata": {
  "kernelspec": {
   "display_name": "Python 3",
   "language": "python",
   "name": "python3"
  },
  "language_info": {
   "codemirror_mode": {
    "name": "ipython",
    "version": 3
   },
   "file_extension": ".py",
   "mimetype": "text/x-python",
   "name": "python",
   "nbconvert_exporter": "python",
   "pygments_lexer": "ipython3",
   "version": "3.8.12"
  }
 },
 "nbformat": 4,
 "nbformat_minor": 4
}
